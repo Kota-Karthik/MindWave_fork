{
 "cells": [
  {
   "cell_type": "code",
   "execution_count": null,
   "metadata": {},
   "outputs": [],
   "source": [
    "import numpy as np\n",
    "import pandas as pd\n",
    "import sklearn\n",
    "import matplotlib.pyplot as plt\n",
    "import os\n",
    "import cv2\n",
    "import tensorflow as tf\n"
   ]
  },
  {
   "cell_type": "code",
   "execution_count": null,
   "metadata": {},
   "outputs": [],
   "source": [
    "dataset=pd.read_csv('/content/weatherAUS.csv')\n",
    "dataset.shape"
   ]
  },
  {
   "cell_type": "code",
   "execution_count": null,
   "metadata": {},
   "outputs": [],
   "source": [
    "dataset.isna().sum()"
   ]
  },
  {
   "cell_type": "code",
   "execution_count": null,
   "metadata": {},
   "outputs": [],
   "source": [
    "dataset.dtypes\n",
    "\n"
   ]
  },
  {
   "cell_type": "code",
   "execution_count": null,
   "metadata": {},
   "outputs": [],
   "source": [
    "df1=dataset.drop(['Date'],axis=\"columns\")"
   ]
  },
  {
   "cell_type": "code",
   "execution_count": null,
   "metadata": {},
   "outputs": [],
   "source": [
    "df1.dtypes"
   ]
  },
  {
   "cell_type": "code",
   "execution_count": null,
   "metadata": {},
   "outputs": [],
   "source": [
    "df1=df1.dropna(axis='rows',how='any',subset=['Location'])\n"
   ]
  },
  {
   "cell_type": "code",
   "execution_count": null,
   "metadata": {},
   "outputs": [],
   "source": [
    "df1['MinTemp'].fillna(int(df1['MinTemp'].mean()),inplace=True)\n",
    "df1.isna().sum()\n"
   ]
  },
  {
   "cell_type": "code",
   "execution_count": null,
   "metadata": {},
   "outputs": [],
   "source": [
    "df1['MaxTemp'].fillna(int(df1['MaxTemp'].mean()),inplace=True)\n",
    "df1['Rainfall'].fillna(int(df1['Rainfall'].mean()),inplace=True)\n",
    "df1['Evaporation'].fillna(int(df1['Evaporation'].mean()),inplace=True)\n",
    "df1['Sunshine'].fillna(int(df1['Sunshine'].mean()),inplace=True)\n",
    "df1['WindGustSpeed'].fillna(int(df1['WindGustSpeed'].mean()),inplace=True)\n",
    "df1['WindSpeed9am'].fillna(int(df1['WindSpeed9am'].mean()),inplace=True)\n",
    "df1['WindSpeed3pm'].fillna(int(df1['WindSpeed3pm'].mean()),inplace=True)\n",
    "df1['Humidity9am'].fillna(int(df1['Humidity9am'].mean()),inplace=True)\n",
    "df1['Humidity3pm'].fillna(int(df1['Humidity3pm'].mean()),inplace=True)\n",
    "df1['Pressure9am'].fillna(int(df1['Pressure9am'].mean()),inplace=True)\n",
    "df1['Pressure3pm'].fillna(int(df1['Pressure3pm'].mean()),inplace=True)\n",
    "df1['Cloud9am'].fillna(int(df1['Cloud9am'].mean()),inplace=True)\n",
    "df1['Cloud3pm'].fillna(int(df1['Cloud3pm'].mean()),inplace=True)\n",
    "df1['Temp9am'].fillna(int(df1['Temp9am'].mean()),inplace=True)\n",
    "df1['Temp3pm'].fillna(int(df1['Temp3pm'].mean()),inplace=True)\n",
    "\n",
    "df1.isna().sum()\n"
   ]
  },
  {
   "cell_type": "code",
   "execution_count": null,
   "metadata": {},
   "outputs": [],
   "source": [
    "df1['RainToday']=df1['RainToday'].replace({'Yes':int(1),'No':int(0)})\n",
    "df1['RainTomorrow']=df1['RainTomorrow'].replace({'Yes':int(1),'No':int(0)})\n"
   ]
  },
  {
   "cell_type": "code",
   "execution_count": null,
   "metadata": {},
   "outputs": [],
   "source": [
    "df1=df1.dropna(axis='rows',how='any',subset=['RainToday','RainTomorrow'])\n",
    "df1.head()\n"
   ]
  },
  {
   "cell_type": "code",
   "execution_count": null,
   "metadata": {},
   "outputs": [],
   "source": [
    "df1=df1.dropna(axis='rows',how='any',subset=['WindGustDir','WindDir9am','WindDir3pm'])\n"
   ]
  },
  {
   "cell_type": "code",
   "execution_count": null,
   "metadata": {},
   "outputs": [],
   "source": [
    "from sklearn.preprocessing import StandardScaler\n",
    "ss1=StandardScaler()\n",
    "df1['MinTemp']=ss1.fit_transform(df1['MinTemp'].values.reshape(-1,1))\n",
    "df1.head()"
   ]
  },
  {
   "cell_type": "code",
   "execution_count": null,
   "metadata": {},
   "outputs": [],
   "source": [
    "ss2=StandardScaler()\n",
    "df1['MaxTemp']=ss2.fit_transform(df1['MaxTemp'].values.reshape(-1,1))\n",
    "ss3=StandardScaler()\n",
    "df1['Evaporation']=ss3.fit_transform(df1['Evaporation'].values.reshape(-1,1))\n",
    "ss4=StandardScaler()\n",
    "df1['Sunshine']=ss4.fit_transform(df1['Sunshine'].values.reshape(-1,1))\n",
    "ss5=StandardScaler()\n",
    "df1['WindGustSpeed']=ss5.fit_transform(df1['WindGustSpeed'].values.reshape(-1,1))\n",
    "ss6=StandardScaler()\n",
    "df1['WindSpeed9am']=ss6.fit_transform(df1['WindSpeed9am'].values.reshape(-1,1))\n",
    "ss7=StandardScaler()\n",
    "df1['WindSpeed3pm']=ss7.fit_transform(df1['WindSpeed3pm'].values.reshape(-1,1))\n",
    "ss8=StandardScaler()\n",
    "df1['Humidity9am']=ss8.fit_transform(df1['Humidity9am'].values.reshape(-1,1))\n",
    "ss9=StandardScaler()\n",
    "df1['Humidity3pm']=ss9.fit_transform(df1['Humidity3pm'].values.reshape(-1,1))\n",
    "ss10=StandardScaler()\n",
    "df1['Pressure9am']=ss10.fit_transform(df1['Pressure9am'].values.reshape(-1,1))\n",
    "ss11=StandardScaler()\n",
    "df1['Pressure3pm']=ss11.fit_transform(df1['Pressure3pm'].values.reshape(-1,1))\n",
    "ss12=StandardScaler()\n",
    "df1['Cloud9am']=ss12.fit_transform(df1['Cloud9am'].values.reshape(-1,1))\n",
    "ss13=StandardScaler()\n",
    "df1['Cloud3pm']=ss13.fit_transform(df1['Cloud3pm'].values.reshape(-1,1))\n",
    "ss14=StandardScaler()\n",
    "df1['Temp9am']=ss14.fit_transform(df1['Temp9am'].values.reshape(-1,1))\n",
    "ss15=StandardScaler()\n",
    "df1['Temp3pm']=ss15.fit_transform(df1['Temp3pm'].values.reshape(-1,1))\n",
    "df1.head()\n",
    "\n"
   ]
  },
  {
   "cell_type": "code",
   "execution_count": null,
   "metadata": {},
   "outputs": [],
   "source": [
    "one=pd.get_dummies(df1['Location'])\n",
    "two=pd.get_dummies(df1['WindGustDir'])\n",
    "three=pd.get_dummies(df1['WindDir9am'])\n",
    "four=pd.get_dummies(df1['WindDir3pm'])"
   ]
  },
  {
   "cell_type": "code",
   "execution_count": null,
   "metadata": {},
   "outputs": [],
   "source": [
    "df1=df1.drop(['Location','WindGustDir','WindDir9am','WindDir3pm'],axis=1)"
   ]
  },
  {
   "cell_type": "code",
   "execution_count": null,
   "metadata": {},
   "outputs": [],
   "source": [
    "df1=pd.concat([df1,one],axis=1)\n",
    "df1=pd.concat([df1,two],axis=1)\n",
    "df1=pd.concat([df1,three],axis=1)\n",
    "df1=pd.concat([df1,four],axis=1)\n",
    "df1.shape"
   ]
  },
  {
   "cell_type": "code",
   "execution_count": null,
   "metadata": {},
   "outputs": [],
   "source": [
    "Y=df1['RainTomorrow']\n",
    "X=df1.drop(['RainTomorrow'],axis=1)"
   ]
  },
  {
   "cell_type": "code",
   "execution_count": null,
   "metadata": {},
   "outputs": [],
   "source": [
    "\n",
    "from sklearn.model_selection import  train_test_split\n",
    "X_train,X_test,Y_train,Y_test = train_test_split(X,Y,test_size=0.1,random_state=101)"
   ]
  },
  {
   "cell_type": "code",
   "execution_count": null,
   "metadata": {},
   "outputs": [],
   "source": [
    "\n",
    "X_train = np.array(X_train).astype('float32')\n",
    "Y_train = np.array(Y_train).astype('float32')\n",
    "\n",
    "model=tf.keras.Sequential([\n",
    "    tf.keras.layers.Flatten(input_shape=( 103,1)),\n",
    "    tf.keras.layers.Dense(100,activation='relu'),\n",
    "     tf.keras.layers.Dense(50,activation='PReLU'),\n",
    "      tf.keras.layers.Dense(25,activation='ELU'),\n",
    "       tf.keras.layers.Dense(12,activation='PReLU'),\n",
    "       tf.keras.layers.Dense(6,activation='relu'),\n",
    "      tf.keras.layers.Dense(2,activation='sigmoid')\n",
    "\n",
    "])\n",
    "model.compile(optimizer='adam',\n",
    "loss='sparse_categorical_crossentropy',\n",
    "metrics=['accuracy']\n",
    ")\n",
    "model.fit( X_train,Y_train,epochs=500)"
   ]
  },
  {
   "cell_type": "code",
   "execution_count": null,
   "metadata": {},
   "outputs": [],
   "source": [
    "model.evaluate(X_test,Y_test)"
   ]
  },
  {
   "cell_type": "code",
   "execution_count": null,
   "metadata": {},
   "outputs": [],
   "source": [
    "import joblib\n",
    "joblib.dump(model,\"trained_model.pkl\")"
   ]
  }
 ],
 "metadata": {
  "language_info": {
   "name": "python"
  },
  "orig_nbformat": 4
 },
 "nbformat": 4,
 "nbformat_minor": 2
}
